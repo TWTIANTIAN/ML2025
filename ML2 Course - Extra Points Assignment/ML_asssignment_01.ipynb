{
 "cells": [
  {
   "cell_type": "markdown",
   "metadata": {},
   "source": [
    "Here we will create our baseline linear model. It will not contain time-dependent exogenous variables. What is more we will not focus on econometrics - BLUE assumptions!"
   ]
  },
  {
   "cell_type": "markdown",
   "metadata": {},
   "source": []
  },
  {
   "cell_type": "markdown",
   "metadata": {},
   "source": [
    "# Classification"
   ]
  },
  {
   "cell_type": "markdown",
   "metadata": {},
   "source": [
    "### Dependencies loading"
   ]
  },
  {
   "cell_type": "code",
   "execution_count": 10,
   "metadata": {},
   "outputs": [],
   "source": [
    "import pandas as pd\n",
    "import numpy as np\n",
    "import matplotlib.pyplot as plt\n",
    "import seaborn as sns\n",
    "from sklearn.feature_selection import (\n",
    "    mutual_info_classif,\n",
    "    f_classif,\n",
    "\n",
    ")  # \n",
    "from sklearn.inspection import permutation_importance\n",
    "from sklearn.model_selection import (\n",
    "    train_test_split,\n",
    "    RandomizedSearchCV,\n",
    "    GridSearchCV,\n",
    ")\n",
    "from sklearn.metrics import (\n",
    "    accuracy_score,\n",
    "    confusion_matrix,\n",
    "    classification_report\n",
    ")\n",
    "from mlxtend.feature_selection import SequentialFeatureSelector as SFS\n",
    "import pickle\n",
    "from sklearn.linear_model import LogisticRegression\n",
    "from sklearn.svm import SVC\n",
    "from sklearn.neighbors import KNeighborsClassifier\n",
    "from sklearn.preprocessing import StandardScaler\n",
    "\n",
    "%matplotlib inline\n",
    "plt.style.use(\"ggplot\")\n",
    "\n",
    "# np.random.seed(1916) #uncomment if you want your code to be reproducible; for the purposes of our activity, let's add some randomness to the results"
   ]
  },
  {
   "cell_type": "markdown",
   "metadata": {},
   "source": [
    "### Data loading"
   ]
  },
  {
   "cell_type": "code",
   "execution_count": 12,
   "metadata": {},
   "outputs": [
    {
     "data": {
      "text/plain": [
       "'d:\\\\finance quantitative\\\\Third Semester'"
      ]
     },
     "execution_count": 12,
     "metadata": {},
     "output_type": "execute_result"
    }
   ],
   "source": [
    "import os\n",
    "os.getcwd()"
   ]
  },
  {
   "cell_type": "code",
   "execution_count": 15,
   "metadata": {},
   "outputs": [],
   "source": [
    "preprocessed_output_data_path = \"data\"\n",
    "\n",
    "df = pd.read_csv(f\"{preprocessed_output_data_path}/train_fe.csv\", index_col=0)\n",
    "df_test = pd.read_csv(f\"{preprocessed_output_data_path}/test_fe.csv\", index_col=0)"
   ]
  },
  {
   "cell_type": "markdown",
   "metadata": {},
   "source": [
    "Target Variable Transformation:\n",
    "\n",
    "Low Tax Avoidance (Class 0): ETR > 0.25 (companies paying relatively high taxes)\n",
    "\n",
    "Medium Tax Avoidance (Class 1): 0.15 < ETR ≤ 0.25\n",
    "\n",
    "High Tax Avoidance (Class 2): ETR ≤ 0.15 (companies with aggressive tax optimization)"
   ]
  },
  {
   "cell_type": "code",
   "execution_count": 16,
   "metadata": {},
   "outputs": [
    {
     "name": "stdout",
     "output_type": "stream",
     "text": [
      "etr_category\n",
      "1    1668\n",
      "0    1267\n",
      "2    1058\n",
      "Name: count, dtype: int64\n"
     ]
    }
   ],
   "source": [
    "conditions = [\n",
    "    df[\"etr\"] > 0.25,\n",
    "    (df[\"etr\"] >= 0.15) & (df[\"etr\"] <= 0.25),\n",
    "    df[\"etr\"] <= 0.15,\n",
    "]\n",
    "\n",
    "labels = [0, 1, 2]\n",
    "df[\"etr_category\"] = np.select(conditions, labels)\n",
    "print(df[\"etr_category\"].value_counts())"
   ]
  },
  {
   "cell_type": "code",
   "execution_count": 18,
   "metadata": {},
   "outputs": [
    {
     "name": "stdout",
     "output_type": "stream",
     "text": [
      "etr_category\n",
      "1    195\n",
      "0    103\n",
      "2     65\n",
      "Name: count, dtype: int64\n"
     ]
    }
   ],
   "source": [
    "df_test[\"etr_category\"] = np.select(conditions, labels)\n",
    "print(df_test[\"etr_category\"].value_counts())"
   ]
  },
  {
   "cell_type": "code",
   "execution_count": 19,
   "metadata": {},
   "outputs": [
    {
     "data": {
      "image/png": "[encoded data removed]",
      "text/plain": [
       "<Figure size 640x480 with 1 Axes>"
      ]
     },
     "metadata": {},
     "output_type": "display_data"
    }
   ],
   "source": [
    "plt.Figure(figsize=(10, 6))\n",
    "sns.countplot(x=\"etr_category\", data=df)\n",
    "plt.title(\"Distribution of ETR Categories\")\n",
    "plt.xlabel(\"ETR Category\")\n",
    "plt.ylabel(\"Count\")\n",
    "plt.show()"
   ]
  },
  {
   "cell_type": "code",
   "execution_count": 20,
   "metadata": {},
   "outputs": [],
   "source": [
    "x_col = df.columns.drop([\"etr\", \"etr_category\",\"Ticker\",\"Nazwa2\"])"
   ]
  },
  {
   "cell_type": "code",
   "execution_count": 21,
   "metadata": {},
   "outputs": [
    {
     "name": "stdout",
     "output_type": "stream",
     "text": [
      "{'rok': 0, 'ta': 0.13613770002088987, 'txt': 0.17189627762095983, 'pi': 0.1648469491590736, 'str': 0.13411116074284424, 'xrd': 0.059546147219663004, 'ni': 0.1662938495322317, 'ppent': 0.10080982233343372, 'intant': 0.16867913200704976, 'dlc': 0.12228922975167578, 'dltt': 0.0958388065206166, 'capex': 0.1286078793953025, 'revenue': 0.13848124983854992, 'cce': 0.12274488625119817, 'adv': 0.002384054750034892, 'diff': 0.1664422646980992, 'roa': 0.13080944332621813, 'lev': 0.08834712676267142, 'intan': 0.10983468554856879, 'rd': 0.04929763857258451, 'ppe': 0.10313529451901982, 'sale': 0.10428856063851266, 'cash_holdings': 0.08630100298970556, 'adv_expenditure': 0, 'capex2': 0.08509224434724971, 'cfc': 0.08505855621975567, 'dta': 0.04771866847874007, 'capex2_scaled': 0.09417036745052476, 'y_v2x_polyarchy': 0.07705254665347838, 'y_e_p_polity': 0.029086067476211896, 'y_BR_Democracy': 0, 'WB_GDPgrowth': 0.11091653071327667, 'WB_GDPpc': 0.10806835027013428, 'WB_Inflation': 0.11210544533561717, 'rr_per_country': 0.0927838112117958, 'rr_per_sector': 0.008760595033494356, 'sektor_consumer discretionary': 0.0045696279103144555, 'sektor_consumer staples': 0, 'sektor_energy': 0.0062250230394858, 'sektor_health care': 0.006139611713745108, 'sektor_industrials': 0.019889955988286356, 'sektor_materials': 0.0017041399239605681, 'sektor_real estate': 0.0027749060041406537, 'sektor_technology': 0, 'sektor_utilities': 0.0013891778541283983, 'gielda_2': 0.043107275650883015, 'gielda_3': 0.0028647787479920694, 'gielda_4': 0.035456800510124564, 'gielda_5': 0, 'ta_log': 0.13557490427775587, 'txt_cat_(-63.011, -34.811]': 0.000495686659963912, 'txt_cat_(-34.811, 0.488]': 0.033408141135998326, 'txt_cat_(0.488, 24.415]': 0.04974157806921675, 'txt_cat_(24.415, 25.05]': 0, 'txt_cat_(25.05, 308.55]': 0.028785272459018962, 'txt_cat_(308.55, 327.531]': 0.0057451070657896786, 'txt_cat_(327.531, inf]': 0.030238055255190188, 'pi_cat_(-8975.0, -1.523]': 0.029738814747528153, 'pi_cat_(-1.523, 157.119]': 0.05127710557438414, 'pi_cat_(157.119, 465.9]': 0.005465888464081248, 'pi_cat_(465.9, 7875.5]': 0.033061896920656864, 'pi_cat_(7875.5, 8108.5]': 0, 'pi_cat_(8108.5, inf]': 0.006972933811481896, 'str_cat_(0.0875, 0.192]': 0.10043973561478525, 'str_cat_(0.192, 0.28]': 0, 'str_cat_(0.28, inf]': 0.060871779534534376, 'xrd_exists': 0.05106774966283778, 'ni_profit': 0.024263812076220193, 'ni_profit_20000': 0, 'ppent_sqrt': 0.10500034948999248, 'intant_sqrt': 0.16230528657199028, 'dlc_cat_(42.262, 176.129]': 0.007854056371419338, 'dlc_cat_(176.129, 200.9]': 0, 'dlc_cat_(200.9, inf]': 0.06306873535432311, 'dltt_cat_(39.38, 327.85]': 0, 'dltt_cat_(327.85, 876.617]': 0.015202019907687436, 'dltt_cat_(876.617, inf]': 0.024096906364545978, 'capex_cat_(7.447, 79.55]': 0, 'capex_cat_(79.55, 5451.0]': 0.01628459606269317, 'capex_cat_(5451.0, inf]': 0.011544714123013833, 'revenue_cat_(0.174, 1248.817]': 0.053396161355553584, 'revenue_cat_(1248.817, 4233.587]': 0.0033840112235021813, 'revenue_cat_(4233.587, inf]': 0.054534204262207675, 'cce_cat_(5.619, 63.321]': 0.026994003019542356, 'cce_cat_(63.321, inf]': 0.06343329271317244, 'adv_cat_(0.3, 874.5]': 0, 'adv_cat_(874.5, inf]': 0, 'diff_positive': 0.03102545083959174, 'roa_clip': 0.13255343353367421, 'lev_sqrt': 0.08779454693478983, 'intan_pow2': 0.10732178973728601, 'rd_sqrt': 0.043668140625537255, 'ppe_clip': 0.1053173762898032, 'cash_holdings_sqrt': 0.08655948662339563, 'adv_expenditure_positive': 0.00534445583490184, 'diff_dta': 0.023531450211083715, 'cfc_dta': 0.029182432774960354, 'etr_y_past': 0.29019008907030663, 'etr_y_ma': 0.2859653082868687, 'diff_ma': 0.1785137839470745, 'roa_ma': 0.12494810329107353, 'lev_ma': 0.12705434257855486, 'intan_ma': 0.16648550998659162, 'ppe_ma': 0.13896672887939743, 'sale_ma': 0.14239301140164962, 'cash_holdings_ma': 0.138501465061466, 'roa_past': 0.12707266964400432, 'lev_past': 0.10924372917646497, 'intan_past': 0.12246096147213392, 'ppe_past': 0.13433500964416933, 'sale_past': 0.11847819027260487, 'cash_holdings_past': 0.12813740932675355}\n"
     ]
    }
   ],
   "source": [
    "mutul_info_dict = dict()\n",
    "for col in x_col:\n",
    "    mutul_info_dict[col] = mutual_info_classif(\n",
    "        df[[col]],\n",
    "        df[\"etr_category\"],\n",
    "    )[0]\n",
    "print(mutul_info_dict)"
   ]
  },
  {
   "cell_type": "code",
   "execution_count": 22,
   "metadata": {},
   "outputs": [
    {
     "data": {
      "text/html": [
       "<div>\n",
       "<style scoped>\n",
       "    .dataframe tbody tr th:only-of-type {\n",
       "        vertical-align: middle;\n",
       "    }\n",
       "\n",
       "    .dataframe tbody tr th {\n",
       "        vertical-align: top;\n",
       "    }\n",
       "\n",
       "    .dataframe thead th {\n",
       "        text-align: right;\n",
       "    }\n",
       "</style>\n",
       "<table border=\"1\" class=\"dataframe\">\n",
       "  <thead>\n",
       "    <tr style=\"text-align: right;\">\n",
       "      <th></th>\n",
       "      <th>mutual_info</th>\n",
       "    </tr>\n",
       "  </thead>\n",
       "  <tbody>\n",
       "    <tr>\n",
       "      <th>rok</th>\n",
       "      <td>0.000000</td>\n",
       "    </tr>\n",
       "    <tr>\n",
       "      <th>ta</th>\n",
       "      <td>0.136138</td>\n",
       "    </tr>\n",
       "    <tr>\n",
       "      <th>txt</th>\n",
       "      <td>0.171896</td>\n",
       "    </tr>\n",
       "    <tr>\n",
       "      <th>pi</th>\n",
       "      <td>0.164847</td>\n",
       "    </tr>\n",
       "    <tr>\n",
       "      <th>str</th>\n",
       "      <td>0.134111</td>\n",
       "    </tr>\n",
       "    <tr>\n",
       "      <th>...</th>\n",
       "      <td>...</td>\n",
       "    </tr>\n",
       "    <tr>\n",
       "      <th>lev_past</th>\n",
       "      <td>0.109244</td>\n",
       "    </tr>\n",
       "    <tr>\n",
       "      <th>intan_past</th>\n",
       "      <td>0.122461</td>\n",
       "    </tr>\n",
       "    <tr>\n",
       "      <th>ppe_past</th>\n",
       "      <td>0.134335</td>\n",
       "    </tr>\n",
       "    <tr>\n",
       "      <th>sale_past</th>\n",
       "      <td>0.118478</td>\n",
       "    </tr>\n",
       "    <tr>\n",
       "      <th>cash_holdings_past</th>\n",
       "      <td>0.128137</td>\n",
       "    </tr>\n",
       "  </tbody>\n",
       "</table>\n",
       "<p>112 rows × 1 columns</p>\n",
       "</div>"
      ],
      "text/plain": [
       "                    mutual_info\n",
       "rok                    0.000000\n",
       "ta                     0.136138\n",
       "txt                    0.171896\n",
       "pi                     0.164847\n",
       "str                    0.134111\n",
       "...                         ...\n",
       "lev_past               0.109244\n",
       "intan_past             0.122461\n",
       "ppe_past               0.134335\n",
       "sale_past              0.118478\n",
       "cash_holdings_past     0.128137\n",
       "\n",
       "[112 rows x 1 columns]"
      ]
     },
     "execution_count": 22,
     "metadata": {},
     "output_type": "execute_result"
    }
   ],
   "source": [
    "fr = pd.DataFrame.from_dict(mutul_info_dict, orient=\"index\", columns=[\"mutual_info\"])\n",
    "fr  #larger value means more important feature"
   ]
  },
  {
   "cell_type": "markdown",
   "metadata": {},
   "source": [
    "Train and evaluate THREE classification models:\n",
    "\n",
    "Logistic Regression (multiclass)\n",
    "\n",
    "K-Nearest Neighbors Classifier\n",
    "\n",
    "Support Vector Classifier (SVC)"
   ]
  },
  {
   "cell_type": "markdown",
   "metadata": {},
   "source": [
    "# 1. Logitic Regression multiclass\n",
    "I want to compare the top 10, top 20, top 30... top all features, selcect how many features can be the optimal model"
   ]
  },
  {
   "cell_type": "code",
   "execution_count": 23,
   "metadata": {},
   "outputs": [
    {
     "name": "stdout",
     "output_type": "stream",
     "text": [
      "Top 10 features: ['etr_y_past', 'etr_y_ma', 'diff_ma', 'txt', 'intant', 'intan_ma', 'diff', 'ni', 'pi', 'intant_sqrt']\n",
      "Top 20 features: ['etr_y_past', 'etr_y_ma', 'diff_ma', 'txt', 'intant', 'intan_ma', 'diff', 'ni', 'pi', 'intant_sqrt', 'sale_ma', 'ppe_ma', 'cash_holdings_ma', 'revenue', 'ta', 'ta_log', 'ppe_past', 'str', 'roa_clip', 'roa']\n",
      "Top 30 features: ['etr_y_past', 'etr_y_ma', 'diff_ma', 'txt', 'intant', 'intan_ma', 'diff', 'ni', 'pi', 'intant_sqrt', 'sale_ma', 'ppe_ma', 'cash_holdings_ma', 'revenue', 'ta', 'ta_log', 'ppe_past', 'str', 'roa_clip', 'roa', 'capex', 'cash_holdings_past', 'roa_past', 'lev_ma', 'roa_ma', 'cce', 'intan_past', 'dlc', 'sale_past', 'WB_Inflation']\n",
      "Top 40 features: ['etr_y_past', 'etr_y_ma', 'diff_ma', 'txt', 'intant', 'intan_ma', 'diff', 'ni', 'pi', 'intant_sqrt', 'sale_ma', 'ppe_ma', 'cash_holdings_ma', 'revenue', 'ta', 'ta_log', 'ppe_past', 'str', 'roa_clip', 'roa', 'capex', 'cash_holdings_past', 'roa_past', 'lev_ma', 'roa_ma', 'cce', 'intan_past', 'dlc', 'sale_past', 'WB_Inflation', 'WB_GDPgrowth', 'intan', 'lev_past', 'WB_GDPpc', 'intan_pow2', 'ppe_clip', 'ppent_sqrt', 'sale', 'ppe', 'ppent']\n",
      "Top 50 features: ['etr_y_past', 'etr_y_ma', 'diff_ma', 'txt', 'intant', 'intan_ma', 'diff', 'ni', 'pi', 'intant_sqrt', 'sale_ma', 'ppe_ma', 'cash_holdings_ma', 'revenue', 'ta', 'ta_log', 'ppe_past', 'str', 'roa_clip', 'roa', 'capex', 'cash_holdings_past', 'roa_past', 'lev_ma', 'roa_ma', 'cce', 'intan_past', 'dlc', 'sale_past', 'WB_Inflation', 'WB_GDPgrowth', 'intan', 'lev_past', 'WB_GDPpc', 'intan_pow2', 'ppe_clip', 'ppent_sqrt', 'sale', 'ppe', 'ppent', 'str_cat_(0.0875, 0.192]', 'dltt', 'capex2_scaled', 'rr_per_country', 'lev', 'lev_sqrt', 'cash_holdings_sqrt', 'cash_holdings', 'capex2', 'cfc']\n",
      "Top 60 features: ['etr_y_past', 'etr_y_ma', 'diff_ma', 'txt', 'intant', 'intan_ma', 'diff', 'ni', 'pi', 'intant_sqrt', 'sale_ma', 'ppe_ma', 'cash_holdings_ma', 'revenue', 'ta', 'ta_log', 'ppe_past', 'str', 'roa_clip', 'roa', 'capex', 'cash_holdings_past', 'roa_past', 'lev_ma', 'roa_ma', 'cce', 'intan_past', 'dlc', 'sale_past', 'WB_Inflation', 'WB_GDPgrowth', 'intan', 'lev_past', 'WB_GDPpc', 'intan_pow2', 'ppe_clip', 'ppent_sqrt', 'sale', 'ppe', 'ppent', 'str_cat_(0.0875, 0.192]', 'dltt', 'capex2_scaled', 'rr_per_country', 'lev', 'lev_sqrt', 'cash_holdings_sqrt', 'cash_holdings', 'capex2', 'cfc', 'y_v2x_polyarchy', 'cce_cat_(63.321, inf]', 'dlc_cat_(200.9, inf]', 'str_cat_(0.28, inf]', 'xrd', 'revenue_cat_(4233.587, inf]', 'revenue_cat_(0.174, 1248.817]', 'pi_cat_(-1.523, 157.119]', 'xrd_exists', 'txt_cat_(0.488, 24.415]']\n",
      "Top 70 features: ['etr_y_past', 'etr_y_ma', 'diff_ma', 'txt', 'intant', 'intan_ma', 'diff', 'ni', 'pi', 'intant_sqrt', 'sale_ma', 'ppe_ma', 'cash_holdings_ma', 'revenue', 'ta', 'ta_log', 'ppe_past', 'str', 'roa_clip', 'roa', 'capex', 'cash_holdings_past', 'roa_past', 'lev_ma', 'roa_ma', 'cce', 'intan_past', 'dlc', 'sale_past', 'WB_Inflation', 'WB_GDPgrowth', 'intan', 'lev_past', 'WB_GDPpc', 'intan_pow2', 'ppe_clip', 'ppent_sqrt', 'sale', 'ppe', 'ppent', 'str_cat_(0.0875, 0.192]', 'dltt', 'capex2_scaled', 'rr_per_country', 'lev', 'lev_sqrt', 'cash_holdings_sqrt', 'cash_holdings', 'capex2', 'cfc', 'y_v2x_polyarchy', 'cce_cat_(63.321, inf]', 'dlc_cat_(200.9, inf]', 'str_cat_(0.28, inf]', 'xrd', 'revenue_cat_(4233.587, inf]', 'revenue_cat_(0.174, 1248.817]', 'pi_cat_(-1.523, 157.119]', 'xrd_exists', 'txt_cat_(0.488, 24.415]', 'rd', 'dta', 'rd_sqrt', 'gielda_2', 'gielda_4', 'txt_cat_(-34.811, 0.488]', 'pi_cat_(465.9, 7875.5]', 'diff_positive', 'txt_cat_(327.531, inf]', 'pi_cat_(-8975.0, -1.523]']\n",
      "Top 80 features: ['etr_y_past', 'etr_y_ma', 'diff_ma', 'txt', 'intant', 'intan_ma', 'diff', 'ni', 'pi', 'intant_sqrt', 'sale_ma', 'ppe_ma', 'cash_holdings_ma', 'revenue', 'ta', 'ta_log', 'ppe_past', 'str', 'roa_clip', 'roa', 'capex', 'cash_holdings_past', 'roa_past', 'lev_ma', 'roa_ma', 'cce', 'intan_past', 'dlc', 'sale_past', 'WB_Inflation', 'WB_GDPgrowth', 'intan', 'lev_past', 'WB_GDPpc', 'intan_pow2', 'ppe_clip', 'ppent_sqrt', 'sale', 'ppe', 'ppent', 'str_cat_(0.0875, 0.192]', 'dltt', 'capex2_scaled', 'rr_per_country', 'lev', 'lev_sqrt', 'cash_holdings_sqrt', 'cash_holdings', 'capex2', 'cfc', 'y_v2x_polyarchy', 'cce_cat_(63.321, inf]', 'dlc_cat_(200.9, inf]', 'str_cat_(0.28, inf]', 'xrd', 'revenue_cat_(4233.587, inf]', 'revenue_cat_(0.174, 1248.817]', 'pi_cat_(-1.523, 157.119]', 'xrd_exists', 'txt_cat_(0.488, 24.415]', 'rd', 'dta', 'rd_sqrt', 'gielda_2', 'gielda_4', 'txt_cat_(-34.811, 0.488]', 'pi_cat_(465.9, 7875.5]', 'diff_positive', 'txt_cat_(327.531, inf]', 'pi_cat_(-8975.0, -1.523]', 'cfc_dta', 'y_e_p_polity', 'txt_cat_(25.05, 308.55]', 'cce_cat_(5.619, 63.321]', 'ni_profit', 'dltt_cat_(876.617, inf]', 'diff_dta', 'sektor_industrials', 'capex_cat_(79.55, 5451.0]', 'dltt_cat_(327.85, 876.617]']\n",
      "Top 90 features: ['etr_y_past', 'etr_y_ma', 'diff_ma', 'txt', 'intant', 'intan_ma', 'diff', 'ni', 'pi', 'intant_sqrt', 'sale_ma', 'ppe_ma', 'cash_holdings_ma', 'revenue', 'ta', 'ta_log', 'ppe_past', 'str', 'roa_clip', 'roa', 'capex', 'cash_holdings_past', 'roa_past', 'lev_ma', 'roa_ma', 'cce', 'intan_past', 'dlc', 'sale_past', 'WB_Inflation', 'WB_GDPgrowth', 'intan', 'lev_past', 'WB_GDPpc', 'intan_pow2', 'ppe_clip', 'ppent_sqrt', 'sale', 'ppe', 'ppent', 'str_cat_(0.0875, 0.192]', 'dltt', 'capex2_scaled', 'rr_per_country', 'lev', 'lev_sqrt', 'cash_holdings_sqrt', 'cash_holdings', 'capex2', 'cfc', 'y_v2x_polyarchy', 'cce_cat_(63.321, inf]', 'dlc_cat_(200.9, inf]', 'str_cat_(0.28, inf]', 'xrd', 'revenue_cat_(4233.587, inf]', 'revenue_cat_(0.174, 1248.817]', 'pi_cat_(-1.523, 157.119]', 'xrd_exists', 'txt_cat_(0.488, 24.415]', 'rd', 'dta', 'rd_sqrt', 'gielda_2', 'gielda_4', 'txt_cat_(-34.811, 0.488]', 'pi_cat_(465.9, 7875.5]', 'diff_positive', 'txt_cat_(327.531, inf]', 'pi_cat_(-8975.0, -1.523]', 'cfc_dta', 'y_e_p_polity', 'txt_cat_(25.05, 308.55]', 'cce_cat_(5.619, 63.321]', 'ni_profit', 'dltt_cat_(876.617, inf]', 'diff_dta', 'sektor_industrials', 'capex_cat_(79.55, 5451.0]', 'dltt_cat_(327.85, 876.617]', 'capex_cat_(5451.0, inf]', 'rr_per_sector', 'dlc_cat_(42.262, 176.129]', 'pi_cat_(8108.5, inf]', 'sektor_energy', 'sektor_health care', 'txt_cat_(308.55, 327.531]', 'pi_cat_(157.119, 465.9]', 'adv_expenditure_positive', 'sektor_consumer discretionary']\n",
      "Top 100 features: ['etr_y_past', 'etr_y_ma', 'diff_ma', 'txt', 'intant', 'intan_ma', 'diff', 'ni', 'pi', 'intant_sqrt', 'sale_ma', 'ppe_ma', 'cash_holdings_ma', 'revenue', 'ta', 'ta_log', 'ppe_past', 'str', 'roa_clip', 'roa', 'capex', 'cash_holdings_past', 'roa_past', 'lev_ma', 'roa_ma', 'cce', 'intan_past', 'dlc', 'sale_past', 'WB_Inflation', 'WB_GDPgrowth', 'intan', 'lev_past', 'WB_GDPpc', 'intan_pow2', 'ppe_clip', 'ppent_sqrt', 'sale', 'ppe', 'ppent', 'str_cat_(0.0875, 0.192]', 'dltt', 'capex2_scaled', 'rr_per_country', 'lev', 'lev_sqrt', 'cash_holdings_sqrt', 'cash_holdings', 'capex2', 'cfc', 'y_v2x_polyarchy', 'cce_cat_(63.321, inf]', 'dlc_cat_(200.9, inf]', 'str_cat_(0.28, inf]', 'xrd', 'revenue_cat_(4233.587, inf]', 'revenue_cat_(0.174, 1248.817]', 'pi_cat_(-1.523, 157.119]', 'xrd_exists', 'txt_cat_(0.488, 24.415]', 'rd', 'dta', 'rd_sqrt', 'gielda_2', 'gielda_4', 'txt_cat_(-34.811, 0.488]', 'pi_cat_(465.9, 7875.5]', 'diff_positive', 'txt_cat_(327.531, inf]', 'pi_cat_(-8975.0, -1.523]', 'cfc_dta', 'y_e_p_polity', 'txt_cat_(25.05, 308.55]', 'cce_cat_(5.619, 63.321]', 'ni_profit', 'dltt_cat_(876.617, inf]', 'diff_dta', 'sektor_industrials', 'capex_cat_(79.55, 5451.0]', 'dltt_cat_(327.85, 876.617]', 'capex_cat_(5451.0, inf]', 'rr_per_sector', 'dlc_cat_(42.262, 176.129]', 'pi_cat_(8108.5, inf]', 'sektor_energy', 'sektor_health care', 'txt_cat_(308.55, 327.531]', 'pi_cat_(157.119, 465.9]', 'adv_expenditure_positive', 'sektor_consumer discretionary', 'revenue_cat_(1248.817, 4233.587]', 'gielda_3', 'sektor_real estate', 'adv', 'sektor_materials', 'sektor_utilities', 'txt_cat_(-63.011, -34.811]', 'sektor_consumer staples', 'y_BR_Democracy', 'adv_expenditure']\n",
      "Top 110 features: ['etr_y_past', 'etr_y_ma', 'diff_ma', 'txt', 'intant', 'intan_ma', 'diff', 'ni', 'pi', 'intant_sqrt', 'sale_ma', 'ppe_ma', 'cash_holdings_ma', 'revenue', 'ta', 'ta_log', 'ppe_past', 'str', 'roa_clip', 'roa', 'capex', 'cash_holdings_past', 'roa_past', 'lev_ma', 'roa_ma', 'cce', 'intan_past', 'dlc', 'sale_past', 'WB_Inflation', 'WB_GDPgrowth', 'intan', 'lev_past', 'WB_GDPpc', 'intan_pow2', 'ppe_clip', 'ppent_sqrt', 'sale', 'ppe', 'ppent', 'str_cat_(0.0875, 0.192]', 'dltt', 'capex2_scaled', 'rr_per_country', 'lev', 'lev_sqrt', 'cash_holdings_sqrt', 'cash_holdings', 'capex2', 'cfc', 'y_v2x_polyarchy', 'cce_cat_(63.321, inf]', 'dlc_cat_(200.9, inf]', 'str_cat_(0.28, inf]', 'xrd', 'revenue_cat_(4233.587, inf]', 'revenue_cat_(0.174, 1248.817]', 'pi_cat_(-1.523, 157.119]', 'xrd_exists', 'txt_cat_(0.488, 24.415]', 'rd', 'dta', 'rd_sqrt', 'gielda_2', 'gielda_4', 'txt_cat_(-34.811, 0.488]', 'pi_cat_(465.9, 7875.5]', 'diff_positive', 'txt_cat_(327.531, inf]', 'pi_cat_(-8975.0, -1.523]', 'cfc_dta', 'y_e_p_polity', 'txt_cat_(25.05, 308.55]', 'cce_cat_(5.619, 63.321]', 'ni_profit', 'dltt_cat_(876.617, inf]', 'diff_dta', 'sektor_industrials', 'capex_cat_(79.55, 5451.0]', 'dltt_cat_(327.85, 876.617]', 'capex_cat_(5451.0, inf]', 'rr_per_sector', 'dlc_cat_(42.262, 176.129]', 'pi_cat_(8108.5, inf]', 'sektor_energy', 'sektor_health care', 'txt_cat_(308.55, 327.531]', 'pi_cat_(157.119, 465.9]', 'adv_expenditure_positive', 'sektor_consumer discretionary', 'revenue_cat_(1248.817, 4233.587]', 'gielda_3', 'sektor_real estate', 'adv', 'sektor_materials', 'sektor_utilities', 'txt_cat_(-63.011, -34.811]', 'sektor_consumer staples', 'y_BR_Democracy', 'adv_expenditure', 'ni_profit_20000', 'txt_cat_(24.415, 25.05]', 'sektor_technology', 'gielda_5', 'adv_cat_(874.5, inf]', 'adv_cat_(0.3, 874.5]', 'pi_cat_(7875.5, 8108.5]', 'capex_cat_(7.447, 79.55]', 'dltt_cat_(39.38, 327.85]', 'str_cat_(0.192, 0.28]']\n"
     ]
    }
   ],
   "source": [
    "\n",
    "for i in np.arange(10, len(x_col)+1, 10):\n",
    "    print(f\"Top {i} features:\", fr.sort_values(by=\"mutual_info\", ascending=False).head(i).index.tolist())"
   ]
  },
  {
   "cell_type": "code",
   "execution_count": 24,
   "metadata": {},
   "outputs": [
    {
     "name": "stdout",
     "output_type": "stream",
     "text": [
      "Training model with top 10 features...\n",
      "Best parameters for top 10 features: {'C': 10, 'multi_class': 'ovr', 'penalty': 'l2', 'solver': 'lbfgs'}\n",
      "Best cross-validation score for top 10 features: 0.5930827067669173\n",
      "Training model with top 20 features...\n",
      "Best parameters for top 20 features: {'C': 1, 'multi_class': 'ovr', 'penalty': 'l2', 'solver': 'lbfgs'}\n",
      "Best cross-validation score for top 20 features: 0.4893233082706767\n",
      "Training model with top 30 features...\n",
      "Best parameters for top 30 features: {'C': 1, 'multi_class': 'multinomial', 'penalty': 'l2', 'solver': 'lbfgs'}\n",
      "Best cross-validation score for top 30 features: 0.49744360902255635\n",
      "Training model with top 40 features...\n",
      "Best parameters for top 40 features: {'C': 1, 'multi_class': 'ovr', 'penalty': 'l2', 'solver': 'lbfgs'}\n",
      "Best cross-validation score for top 40 features: 0.5028571428571429\n",
      "Training model with top 50 features...\n",
      "Best parameters for top 50 features: {'C': 0.1, 'multi_class': 'ovr', 'penalty': 'l2', 'solver': 'lbfgs'}\n",
      "Best cross-validation score for top 50 features: 0.5013533834586467\n",
      "Training model with top 60 features...\n",
      "Best parameters for top 60 features: {'C': 0.1, 'multi_class': 'ovr', 'penalty': 'l2', 'solver': 'lbfgs'}\n",
      "Best cross-validation score for top 60 features: 0.4947368421052631\n",
      "Training model with top 70 features...\n",
      "Best parameters for top 70 features: {'C': 1, 'multi_class': 'ovr', 'penalty': 'l2', 'solver': 'lbfgs'}\n",
      "Best cross-validation score for top 70 features: 0.5004511278195488\n",
      "Training model with top 80 features...\n",
      "Best parameters for top 80 features: {'C': 10, 'multi_class': 'ovr', 'penalty': 'l2', 'solver': 'lbfgs'}\n",
      "Best cross-validation score for top 80 features: 0.5193984962406015\n",
      "Training model with top 90 features...\n",
      "Best parameters for top 90 features: {'C': 1, 'multi_class': 'ovr', 'penalty': 'l2', 'solver': 'lbfgs'}\n",
      "Best cross-validation score for top 90 features: 0.5190977443609023\n",
      "Training model with top 100 features...\n",
      "Best parameters for top 100 features: {'C': 1, 'multi_class': 'ovr', 'penalty': 'l2', 'solver': 'lbfgs'}\n",
      "Best cross-validation score for top 100 features: 0.5142857142857143\n",
      "Training model with top 110 features...\n",
      "Best parameters for top 110 features: {'C': 0.1, 'multi_class': 'ovr', 'penalty': 'l2', 'solver': 'lbfgs'}\n",
      "Best cross-validation score for top 110 features: 0.5181954887218045\n"
     ]
    }
   ],
   "source": [
    "import warnings\n",
    "warnings.filterwarnings(\"ignore\")\n",
    "log_classifier = LogisticRegression(max_iter=1000)\n",
    "parameter_grid = {\n",
    "    'C': [0.1, 1, 10],\n",
    "    'penalty': ['l2'],\n",
    "    'solver': ['lbfgs',\"sage\"],\n",
    "    'multi_class': ['ovr','multinomial'],\n",
    "}\n",
    "\n",
    "from sklearn.model_selection import TimeSeriesSplit, GridSearchCV\n",
    "\n",
    "# Suppose you want 5 splits\n",
    "tscv = TimeSeriesSplit(n_splits=5)\n",
    "\n",
    "results = dict()\n",
    "for i in np.arange(10, len(x_col)+1, 10):\n",
    "    print(f\"Training model with top {i} features...\")\n",
    "    clf = GridSearchCV(\n",
    "        log_classifier,\n",
    "        parameter_grid,\n",
    "        cv=tscv,\n",
    "        n_jobs=-1,\n",
    "        scoring=\"accuracy\",\n",
    "    )\n",
    "    selected_features = fr.sort_values(by=\"mutual_info\", ascending=False).head(i).index.tolist()\n",
    "    model = clf.fit(df[selected_features], df[\"etr_category\"])\n",
    "    results[i] = {\n",
    "        \"model\": model,\n",
    "        \"best_params\": clf.best_params_,\n",
    "        \"best_score\": clf.best_score_\n",
    "    }\n",
    "    \n",
    "    print(f\"Best parameters for top {i} features: {clf.best_params_}\")\n",
    "    print(f\"Best cross-validation score for top {i} features: {clf.best_score_}\")"
   ]
  },
  {
   "cell_type": "code",
   "execution_count": 25,
   "metadata": {},
   "outputs": [
    {
     "data": {
      "text/html": [
       "<div>\n",
       "<style scoped>\n",
       "    .dataframe tbody tr th:only-of-type {\n",
       "        vertical-align: middle;\n",
       "    }\n",
       "\n",
       "    .dataframe tbody tr th {\n",
       "        vertical-align: top;\n",
       "    }\n",
       "\n",
       "    .dataframe thead th {\n",
       "        text-align: right;\n",
       "    }\n",
       "</style>\n",
       "<table border=\"1\" class=\"dataframe\">\n",
       "  <thead>\n",
       "    <tr style=\"text-align: right;\">\n",
       "      <th></th>\n",
       "      <th>model</th>\n",
       "      <th>best_params</th>\n",
       "      <th>best_score</th>\n",
       "    </tr>\n",
       "  </thead>\n",
       "  <tbody>\n",
       "    <tr>\n",
       "      <th>10</th>\n",
       "      <td>GridSearchCV(cv=TimeSeriesSplit(gap=0, max_tra...</td>\n",
       "      <td>{'C': 10, 'multi_class': 'ovr', 'penalty': 'l2...</td>\n",
       "      <td>0.593083</td>\n",
       "    </tr>\n",
       "    <tr>\n",
       "      <th>20</th>\n",
       "      <td>GridSearchCV(cv=TimeSeriesSplit(gap=0, max_tra...</td>\n",
       "      <td>{'C': 1, 'multi_class': 'ovr', 'penalty': 'l2'...</td>\n",
       "      <td>0.489323</td>\n",
       "    </tr>\n",
       "    <tr>\n",
       "      <th>30</th>\n",
       "      <td>GridSearchCV(cv=TimeSeriesSplit(gap=0, max_tra...</td>\n",
       "      <td>{'C': 1, 'multi_class': 'multinomial', 'penalt...</td>\n",
       "      <td>0.497444</td>\n",
       "    </tr>\n",
       "    <tr>\n",
       "      <th>40</th>\n",
       "      <td>GridSearchCV(cv=TimeSeriesSplit(gap=0, max_tra...</td>\n",
       "      <td>{'C': 1, 'multi_class': 'ovr', 'penalty': 'l2'...</td>\n",
       "      <td>0.502857</td>\n",
       "    </tr>\n",
       "    <tr>\n",
       "      <th>50</th>\n",
       "      <td>GridSearchCV(cv=TimeSeriesSplit(gap=0, max_tra...</td>\n",
       "      <td>{'C': 0.1, 'multi_class': 'ovr', 'penalty': 'l...</td>\n",
       "      <td>0.501353</td>\n",
       "    </tr>\n",
       "    <tr>\n",
       "      <th>60</th>\n",
       "      <td>GridSearchCV(cv=TimeSeriesSplit(gap=0, max_tra...</td>\n",
       "      <td>{'C': 0.1, 'multi_class': 'ovr', 'penalty': 'l...</td>\n",
       "      <td>0.494737</td>\n",
       "    </tr>\n",
       "    <tr>\n",
       "      <th>70</th>\n",
       "      <td>GridSearchCV(cv=TimeSeriesSplit(gap=0, max_tra...</td>\n",
       "      <td>{'C': 1, 'multi_class': 'ovr', 'penalty': 'l2'...</td>\n",
       "      <td>0.500451</td>\n",
       "    </tr>\n",
       "    <tr>\n",
       "      <th>80</th>\n",
       "      <td>GridSearchCV(cv=TimeSeriesSplit(gap=0, max_tra...</td>\n",
       "      <td>{'C': 10, 'multi_class': 'ovr', 'penalty': 'l2...</td>\n",
       "      <td>0.519398</td>\n",
       "    </tr>\n",
       "    <tr>\n",
       "      <th>90</th>\n",
       "      <td>GridSearchCV(cv=TimeSeriesSplit(gap=0, max_tra...</td>\n",
       "      <td>{'C': 1, 'multi_class': 'ovr', 'penalty': 'l2'...</td>\n",
       "      <td>0.519098</td>\n",
       "    </tr>\n",
       "    <tr>\n",
       "      <th>100</th>\n",
       "      <td>GridSearchCV(cv=TimeSeriesSplit(gap=0, max_tra...</td>\n",
       "      <td>{'C': 1, 'multi_class': 'ovr', 'penalty': 'l2'...</td>\n",
       "      <td>0.514286</td>\n",
       "    </tr>\n",
       "    <tr>\n",
       "      <th>110</th>\n",
       "      <td>GridSearchCV(cv=TimeSeriesSplit(gap=0, max_tra...</td>\n",
       "      <td>{'C': 0.1, 'multi_class': 'ovr', 'penalty': 'l...</td>\n",
       "      <td>0.518195</td>\n",
       "    </tr>\n",
       "  </tbody>\n",
       "</table>\n",
       "</div>"
      ],
      "text/plain": [
       "                                                 model  \\\n",
       "10   GridSearchCV(cv=TimeSeriesSplit(gap=0, max_tra...   \n",
       "20   GridSearchCV(cv=TimeSeriesSplit(gap=0, max_tra...   \n",
       "30   GridSearchCV(cv=TimeSeriesSplit(gap=0, max_tra...   \n",
       "40   GridSearchCV(cv=TimeSeriesSplit(gap=0, max_tra...   \n",
       "50   GridSearchCV(cv=TimeSeriesSplit(gap=0, max_tra...   \n",
       "60   GridSearchCV(cv=TimeSeriesSplit(gap=0, max_tra...   \n",
       "70   GridSearchCV(cv=TimeSeriesSplit(gap=0, max_tra...   \n",
       "80   GridSearchCV(cv=TimeSeriesSplit(gap=0, max_tra...   \n",
       "90   GridSearchCV(cv=TimeSeriesSplit(gap=0, max_tra...   \n",
       "100  GridSearchCV(cv=TimeSeriesSplit(gap=0, max_tra...   \n",
       "110  GridSearchCV(cv=TimeSeriesSplit(gap=0, max_tra...   \n",
       "\n",
       "                                           best_params  best_score  \n",
       "10   {'C': 10, 'multi_class': 'ovr', 'penalty': 'l2...    0.593083  \n",
       "20   {'C': 1, 'multi_class': 'ovr', 'penalty': 'l2'...    0.489323  \n",
       "30   {'C': 1, 'multi_class': 'multinomial', 'penalt...    0.497444  \n",
       "40   {'C': 1, 'multi_class': 'ovr', 'penalty': 'l2'...    0.502857  \n",
       "50   {'C': 0.1, 'multi_class': 'ovr', 'penalty': 'l...    0.501353  \n",
       "60   {'C': 0.1, 'multi_class': 'ovr', 'penalty': 'l...    0.494737  \n",
       "70   {'C': 1, 'multi_class': 'ovr', 'penalty': 'l2'...    0.500451  \n",
       "80   {'C': 10, 'multi_class': 'ovr', 'penalty': 'l2...    0.519398  \n",
       "90   {'C': 1, 'multi_class': 'ovr', 'penalty': 'l2'...    0.519098  \n",
       "100  {'C': 1, 'multi_class': 'ovr', 'penalty': 'l2'...    0.514286  \n",
       "110  {'C': 0.1, 'multi_class': 'ovr', 'penalty': 'l...    0.518195  "
      ]
     },
     "execution_count": 25,
     "metadata": {},
     "output_type": "execute_result"
    }
   ],
   "source": [
    "results_df = pd.DataFrame.from_dict(results, orient=\"index\")\n",
    "results_df"
   ]
  },
  {
   "cell_type": "markdown",
   "metadata": {},
   "source": [
    "### Therefore, we can see that the top 10 features can give better scrore, then test to find whether align with training"
   ]
  },
  {
   "cell_type": "code",
   "execution_count": 26,
   "metadata": {},
   "outputs": [],
   "source": [
    "Test_classification_reports = {}\n",
    "for i in np.arange(10, len(x_col)+1, 10):\n",
    "    selected_features = fr.sort_values(by=\"mutual_info\", ascending=False).head(i).index.tolist()\n",
    "    params = results_df.loc[i, \"best_params\"]\n",
    "    \n",
    "    model = LogisticRegression(**params, max_iter=1000).fit(df[selected_features], df[\"etr_category\"])\n",
    "    pred = model.predict(df_test[selected_features])\n",
    "    \n",
    "    report_dict = classification_report(df_test[\"etr_category\"], pred, output_dict=True)\n",
    "    report_df = pd.DataFrame.from_dict(report_dict[\"macro avg\"], orient=\"index\").transpose()\n",
    "    Test_classification_reports[i] = report_df"
   ]
  },
  {
   "cell_type": "code",
   "execution_count": 27,
   "metadata": {},
   "outputs": [
    {
     "data": {
      "text/html": [
       "<div>\n",
       "<style scoped>\n",
       "    .dataframe tbody tr th:only-of-type {\n",
       "        vertical-align: middle;\n",
       "    }\n",
       "\n",
       "    .dataframe tbody tr th {\n",
       "        vertical-align: top;\n",
       "    }\n",
       "\n",
       "    .dataframe thead th {\n",
       "        text-align: right;\n",
       "    }\n",
       "</style>\n",
       "<table border=\"1\" class=\"dataframe\">\n",
       "  <thead>\n",
       "    <tr style=\"text-align: right;\">\n",
       "      <th></th>\n",
       "      <th></th>\n",
       "      <th>precision</th>\n",
       "      <th>recall</th>\n",
       "      <th>f1-score</th>\n",
       "      <th>support</th>\n",
       "    </tr>\n",
       "    <tr>\n",
       "      <th>num_features</th>\n",
       "      <th></th>\n",
       "      <th></th>\n",
       "      <th></th>\n",
       "      <th></th>\n",
       "      <th></th>\n",
       "    </tr>\n",
       "  </thead>\n",
       "  <tbody>\n",
       "    <tr>\n",
       "      <th>10</th>\n",
       "      <th>0</th>\n",
       "      <td>0.554321</td>\n",
       "      <td>0.538495</td>\n",
       "      <td>0.543291</td>\n",
       "      <td>363.0</td>\n",
       "    </tr>\n",
       "    <tr>\n",
       "      <th>20</th>\n",
       "      <th>0</th>\n",
       "      <td>0.356926</td>\n",
       "      <td>0.426587</td>\n",
       "      <td>0.387812</td>\n",
       "      <td>363.0</td>\n",
       "    </tr>\n",
       "    <tr>\n",
       "      <th>30</th>\n",
       "      <th>0</th>\n",
       "      <td>0.579763</td>\n",
       "      <td>0.448345</td>\n",
       "      <td>0.381323</td>\n",
       "      <td>363.0</td>\n",
       "    </tr>\n",
       "    <tr>\n",
       "      <th>40</th>\n",
       "      <th>0</th>\n",
       "      <td>0.347222</td>\n",
       "      <td>0.424944</td>\n",
       "      <td>0.380921</td>\n",
       "      <td>363.0</td>\n",
       "    </tr>\n",
       "    <tr>\n",
       "      <th>50</th>\n",
       "      <th>0</th>\n",
       "      <td>0.501925</td>\n",
       "      <td>0.419998</td>\n",
       "      <td>0.386013</td>\n",
       "      <td>363.0</td>\n",
       "    </tr>\n",
       "    <tr>\n",
       "      <th>60</th>\n",
       "      <th>0</th>\n",
       "      <td>0.425400</td>\n",
       "      <td>0.409924</td>\n",
       "      <td>0.377201</td>\n",
       "      <td>363.0</td>\n",
       "    </tr>\n",
       "    <tr>\n",
       "      <th>70</th>\n",
       "      <th>0</th>\n",
       "      <td>0.371743</td>\n",
       "      <td>0.403269</td>\n",
       "      <td>0.367594</td>\n",
       "      <td>363.0</td>\n",
       "    </tr>\n",
       "    <tr>\n",
       "      <th>80</th>\n",
       "      <th>0</th>\n",
       "      <td>0.420170</td>\n",
       "      <td>0.424147</td>\n",
       "      <td>0.394670</td>\n",
       "      <td>363.0</td>\n",
       "    </tr>\n",
       "    <tr>\n",
       "      <th>90</th>\n",
       "      <th>0</th>\n",
       "      <td>0.426722</td>\n",
       "      <td>0.432329</td>\n",
       "      <td>0.401942</td>\n",
       "      <td>363.0</td>\n",
       "    </tr>\n",
       "    <tr>\n",
       "      <th>100</th>\n",
       "      <th>0</th>\n",
       "      <td>0.351292</td>\n",
       "      <td>0.428363</td>\n",
       "      <td>0.384708</td>\n",
       "      <td>363.0</td>\n",
       "    </tr>\n",
       "    <tr>\n",
       "      <th>110</th>\n",
       "      <th>0</th>\n",
       "      <td>0.357231</td>\n",
       "      <td>0.438072</td>\n",
       "      <td>0.391984</td>\n",
       "      <td>363.0</td>\n",
       "    </tr>\n",
       "  </tbody>\n",
       "</table>\n",
       "</div>"
      ],
      "text/plain": [
       "                precision    recall  f1-score  support\n",
       "num_features                                          \n",
       "10           0   0.554321  0.538495  0.543291    363.0\n",
       "20           0   0.356926  0.426587  0.387812    363.0\n",
       "30           0   0.579763  0.448345  0.381323    363.0\n",
       "40           0   0.347222  0.424944  0.380921    363.0\n",
       "50           0   0.501925  0.419998  0.386013    363.0\n",
       "60           0   0.425400  0.409924  0.377201    363.0\n",
       "70           0   0.371743  0.403269  0.367594    363.0\n",
       "80           0   0.420170  0.424147  0.394670    363.0\n",
       "90           0   0.426722  0.432329  0.401942    363.0\n",
       "100          0   0.351292  0.428363  0.384708    363.0\n",
       "110          0   0.357231  0.438072  0.391984    363.0"
      ]
     },
     "execution_count": 27,
     "metadata": {},
     "output_type": "execute_result"
    }
   ],
   "source": [
    "pd.concat(Test_classification_reports, names=['num_features'])"
   ]
  },
  {
   "cell_type": "markdown",
   "metadata": {},
   "source": [
    "#### Still, the optimal model is 10 features, Now the baseline model with Macro F1 0.543, not quite good"
   ]
  },
  {
   "cell_type": "markdown",
   "metadata": {},
   "source": [
    "# 2. KNN classifer\n",
    "Due to KNN is more time consuming, and KNN may have the high-dimension issues. So just try 10, 20,30 feautures, and also the continuous features should do the standardsclaer"
   ]
  },
  {
   "cell_type": "code",
   "execution_count": 30,
   "metadata": {},
   "outputs": [],
   "source": [
    "top_10_features = fr.sort_values(by=\"mutual_info\", ascending=False).head(10).index.tolist()\n",
    "top_20_features = fr.sort_values(by=\"mutual_info\", ascending=False).head(20).index.tolist()\n",
    "top_30_features = fr.sort_values(by=\"mutual_info\", ascending=False).head(30).index.tolist()"
   ]
  },
  {
   "cell_type": "code",
   "execution_count": 31,
   "metadata": {},
   "outputs": [
    {
     "name": "stdout",
     "output_type": "stream",
     "text": [
      "<class 'pandas.core.frame.DataFrame'>\n",
      "Index: 3993 entries, 0 to 4354\n",
      "Data columns (total 30 columns):\n",
      " #   Column              Non-Null Count  Dtype  \n",
      "---  ------              --------------  -----  \n",
      " 0   etr_y_past          3993 non-null   float64\n",
      " 1   etr_y_ma            3993 non-null   float64\n",
      " 2   diff_ma             3993 non-null   float64\n",
      " 3   txt                 3993 non-null   float64\n",
      " 4   intant              3993 non-null   float64\n",
      " 5   intan_ma            3993 non-null   float64\n",
      " 6   diff                3993 non-null   float64\n",
      " 7   ni                  3993 non-null   float64\n",
      " 8   pi                  3993 non-null   float64\n",
      " 9   intant_sqrt         3993 non-null   float64\n",
      " 10  sale_ma             3993 non-null   float64\n",
      " 11  ppe_ma              3993 non-null   float64\n",
      " 12  cash_holdings_ma    3993 non-null   float64\n",
      " 13  revenue             3993 non-null   float64\n",
      " 14  ta                  3993 non-null   float64\n",
      " 15  ta_log              3993 non-null   float64\n",
      " 16  ppe_past            3993 non-null   float64\n",
      " 17  str                 3993 non-null   float64\n",
      " 18  roa_clip            3993 non-null   float64\n",
      " 19  roa                 3993 non-null   float64\n",
      " 20  capex               3993 non-null   float64\n",
      " 21  cash_holdings_past  3993 non-null   float64\n",
      " 22  roa_past            3993 non-null   float64\n",
      " 23  lev_ma              3993 non-null   float64\n",
      " 24  roa_ma              3993 non-null   float64\n",
      " 25  cce                 3993 non-null   float64\n",
      " 26  intan_past          3993 non-null   float64\n",
      " 27  dlc                 3993 non-null   float64\n",
      " 28  sale_past           3993 non-null   float64\n",
      " 29  WB_Inflation        3993 non-null   float64\n",
      "dtypes: float64(30)\n",
      "memory usage: 967.1 KB\n"
     ]
    }
   ],
   "source": [
    "df[top_30_features].info() #all float\n",
    "scale_top10 = StandardScaler().fit(df[top_10_features])\n",
    "scale_top20 = StandardScaler().fit(df[top_20_features])\n",
    "scale_top30 = StandardScaler().fit(df[top_30_features])\n",
    "X_train_top10 = scale_top10.transform(df[top_10_features])\n",
    "X_train_top20 = scale_top20.transform(df[top_20_features])\n",
    "X_train_top30 = scale_top30.transform(df[top_30_features])"
   ]
  },
  {
   "cell_type": "code",
   "execution_count": 32,
   "metadata": {},
   "outputs": [],
   "source": [
    "X_test_top10 = scale_top10.transform(df_test[top_10_features])\n",
    "X_test_top20 = scale_top20.transform(df_test[top_20_features])\n",
    "X_test_top30 = scale_top30.transform(df_test[top_30_features])"
   ]
  },
  {
   "cell_type": "code",
   "execution_count": 33,
   "metadata": {},
   "outputs": [
    {
     "name": "stdout",
     "output_type": "stream",
     "text": [
      "Best parameters for top 10 features: {'weights': 'uniform', 'n_neighbors': 9, 'metric': 'manhattan', 'algorithm': 'kd_tree'}\n",
      "Best parameters for top 20 features: {'weights': 'distance', 'n_neighbors': 9, 'metric': 'minkowski', 'algorithm': 'ball_tree'}\n",
      "Best parameters for top 30 features: {'weights': 'distance', 'n_neighbors': 9, 'metric': 'euclidean', 'algorithm': 'auto'}\n",
      "Best cross-validation score for top 10 features: 0.6266246497827614\n",
      "Best cross-validation score for top 20 features: 0.5646900644604316\n",
      "Best cross-validation score for top 30 features: 0.5444658645321276\n"
     ]
    }
   ],
   "source": [
    "from sklearn.pipeline import Pipeline\n",
    "from sklearn.preprocessing import  OneHotEncoder\n",
    "from sklearn.compose import ColumnTransformer\n",
    "\n",
    "# KNN pipeline\n",
    "knn = KNeighborsClassifier()\n",
    "\n",
    "parameter_grid = {\n",
    "    'n_neighbors': [3, 5, 7, 9],\n",
    "    'weights': ['uniform', 'distance'],\n",
    "    'algorithm': ['auto', 'ball_tree', 'kd_tree', 'brute'],\n",
    "    'metric': ['minkowski', 'euclidean', 'manhattan']\n",
    "} # 4*2*4*3=96 combinations\n",
    "\n",
    "clf_top10 = RandomizedSearchCV(\n",
    "    KNeighborsClassifier(),\n",
    "    parameter_grid,\n",
    "    n_iter=20,\n",
    "    cv=tscv,\n",
    "    scoring='f1_macro',\n",
    "    n_jobs=-1,\n",
    "    random_state=1916\n",
    ")\n",
    "\n",
    "clf_top20 = RandomizedSearchCV(\n",
    "    KNeighborsClassifier(),\n",
    "    parameter_grid,\n",
    "    n_iter=20,\n",
    "    cv=tscv,\n",
    "    scoring='f1_macro',\n",
    "    n_jobs=-1,\n",
    "    random_state=1917  # optional: different random state\n",
    ")\n",
    "\n",
    "clf_top30 = RandomizedSearchCV(\n",
    "    KNeighborsClassifier(),\n",
    "    parameter_grid,\n",
    "    n_iter=20,\n",
    "    cv=tscv,\n",
    "    scoring='f1_macro',\n",
    "    n_jobs=-1,\n",
    "    random_state=1917  # optional: different random state\n",
    ")\n",
    "\n",
    "clf_top10.fit(X_train_top10, df[\"etr_category\"])\n",
    "clf_top20.fit(X_train_top20, df[\"etr_category\"])\n",
    "clf_top30.fit(X_train_top30, df[\"etr_category\"])\n",
    "\n",
    "print(\"Best parameters for top 10 features:\", clf_top10.best_params_)\n",
    "print(\"Best parameters for top 20 features:\", clf_top20.best_params_)\n",
    "print(\"Best parameters for top 30 features:\", clf_top30.best_params_)\n",
    "\n",
    "print(\"Best cross-validation score for top 10 features:\", clf_top10.best_score_)\n",
    "print(\"Best cross-validation score for top 20 features:\", clf_top20.best_score_)\n",
    "print(\"Best cross-validation score for top 30 features:\", clf_top30.best_score_)\n"
   ]
  },
  {
   "cell_type": "markdown",
   "metadata": {},
   "source": [
    "### KNN has an significant imporement with 0.627 score,  and the still top 10 features has the best scores, then test"
   ]
  },
  {
   "cell_type": "code",
   "execution_count": 34,
   "metadata": {},
   "outputs": [
    {
     "name": "stdout",
     "output_type": "stream",
     "text": [
      "KNN Top 10 Features Classification Report:\n",
      "               precision    recall  f1-score   support\n",
      "\n",
      "           0       0.57      0.62      0.59       103\n",
      "           1       0.72      0.64      0.67       195\n",
      "           2       0.45      0.54      0.49        65\n",
      "\n",
      "    accuracy                           0.61       363\n",
      "   macro avg       0.58      0.60      0.59       363\n",
      "weighted avg       0.63      0.61      0.62       363\n",
      "\n",
      "KNN Top 20 Features Classification Report:\n",
      "               precision    recall  f1-score   support\n",
      "\n",
      "           0       0.60      0.57      0.59       103\n",
      "           1       0.72      0.64      0.68       195\n",
      "           2       0.37      0.52      0.44        65\n",
      "\n",
      "    accuracy                           0.60       363\n",
      "   macro avg       0.56      0.58      0.57       363\n",
      "weighted avg       0.62      0.60      0.61       363\n",
      "\n",
      "KNN Top 30 Features Classification Report:\n",
      "               precision    recall  f1-score   support\n",
      "\n",
      "           0       0.60      0.59      0.60       103\n",
      "           1       0.73      0.69      0.71       195\n",
      "           2       0.43      0.51      0.47        65\n",
      "\n",
      "    accuracy                           0.63       363\n",
      "   macro avg       0.59      0.60      0.59       363\n",
      "weighted avg       0.64      0.63      0.63       363\n",
      "\n"
     ]
    }
   ],
   "source": [
    "knn_top10 = KNeighborsClassifier(**clf_top10.best_params_).fit(X_train_top10, df[\"etr_category\"])\n",
    "knn_top20 = KNeighborsClassifier(**clf_top20.best_params_).fit(X_train_top20, df[\"etr_category\"])\n",
    "knn_top30 = KNeighborsClassifier(**clf_top30.best_params_).fit(X_train_top30, df[\"etr_category\"])\n",
    "\n",
    "knn_top10_predict = knn_top10.predict(X_test_top10)\n",
    "knn_top20_predict = knn_top20.predict(X_test_top20)\n",
    "knn_top30_predict = knn_top30.predict(X_test_top30)\n",
    "\n",
    "print(\"KNN Top 10 Features Classification Report:\\n\", classification_report(df_test[\"etr_category\"], knn_top10_predict))\n",
    "print(\"KNN Top 20 Features Classification Report:\\n\", classification_report(df_test[\"etr_category\"], knn_top20_predict))\n",
    "print(\"KNN Top 30 Features Classification Report:\\n\", classification_report(df_test[\"etr_category\"], knn_top30_predict))"
   ]
  },
  {
   "cell_type": "markdown",
   "metadata": {},
   "source": [
    "#### Therefore, KNN has the optimal macro F1 WITH 0.59, with top10 features"
   ]
  },
  {
   "cell_type": "markdown",
   "metadata": {},
   "source": [
    "# 3. Vector support machine learning"
   ]
  },
  {
   "cell_type": "code",
   "execution_count": 38,
   "metadata": {},
   "outputs": [
    {
     "name": "stdout",
     "output_type": "stream",
     "text": [
      "Best parameters for top 10 features: {'C': 1, 'gamma': 1, 'kernel': 'rbf'}\n",
      "Best parameters for top 20 features: {'C': 1, 'gamma': 'scale', 'kernel': 'rbf'}\n",
      "Best parameters for top 30 features: {'C': 10, 'gamma': 'scale', 'kernel': 'linear'}\n",
      "Best cross-validation score for top 10 features: 0.6343828228275804\n",
      "Best cross-validation score for top 20 features: 0.6145099409290814\n",
      "Best cross-validation score for top 30 features: 0.6074770162322892\n"
     ]
    }
   ],
   "source": [
    "parameter_grid = {\n",
    "    'C': [0.1, 1, 10],                 \n",
    "    'kernel': ['linear', 'rbf'],       \n",
    "    'gamma': ['scale', 0.1, 1],        \n",
    "}\n",
    "\n",
    "tscv = TimeSeriesSplit(n_splits=3)\n",
    "\n",
    "clf_top10 = GridSearchCV(\n",
    "    SVC(),\n",
    "    parameter_grid,\n",
    "    cv=tscv,\n",
    "    scoring='f1_macro',\n",
    "    n_jobs=-1,\n",
    ")\n",
    "clf_top20 = GridSearchCV(\n",
    "    SVC(),\n",
    "    parameter_grid,\n",
    "    cv=tscv,\n",
    "    scoring='f1_macro',\n",
    "    n_jobs=-1,\n",
    ")\n",
    "clf_top30 = GridSearchCV(\n",
    "    SVC(),\n",
    "    parameter_grid,\n",
    "    cv=tscv,\n",
    "    scoring='f1_macro',\n",
    "    n_jobs=-1,\n",
    ")\n",
    "\n",
    "clf_top10.fit(X_train_top10, df[\"etr_category\"])\n",
    "clf_top20.fit(X_train_top20, df[\"etr_category\"])\n",
    "clf_top30.fit(X_train_top30, df[\"etr_category\"])\n",
    "\n",
    "print(\"Best parameters for top 10 features:\", clf_top10.best_params_)\n",
    "print(\"Best parameters for top 20 features:\", clf_top20.best_params_) \n",
    "print(\"Best parameters for top 30 features:\", clf_top30.best_params_)    \n",
    "\n",
    "print(\"Best cross-validation score for top 10 features:\", clf_top10.best_score_)\n",
    "print(\"Best cross-validation score for top 20 features:\", clf_top20.best_score_)\n",
    "print(\"Best cross-validation score for top 30 features:\", clf_top30.best_score_)\n",
    "\n"
   ]
  },
  {
   "cell_type": "code",
   "execution_count": 39,
   "metadata": {},
   "outputs": [
    {
     "name": "stdout",
     "output_type": "stream",
     "text": [
      "SVC Top 10 Features Classification Report:\n",
      "               precision    recall  f1-score   support\n",
      "\n",
      "           0       0.61      0.61      0.61       103\n",
      "           1       0.74      0.69      0.71       195\n",
      "           2       0.44      0.54      0.49        65\n",
      "\n",
      "    accuracy                           0.64       363\n",
      "   macro avg       0.60      0.61      0.60       363\n",
      "weighted avg       0.65      0.64      0.64       363\n",
      "\n",
      "SVC Top 20 Features Classification Report:\n",
      "               precision    recall  f1-score   support\n",
      "\n",
      "           0       0.60      0.62      0.61       103\n",
      "           1       0.75      0.72      0.73       195\n",
      "           2       0.49      0.52      0.51        65\n",
      "\n",
      "    accuracy                           0.66       363\n",
      "   macro avg       0.61      0.62      0.62       363\n",
      "weighted avg       0.66      0.66      0.66       363\n",
      "\n",
      "SVC Top 30 Features Classification Report:\n",
      "               precision    recall  f1-score   support\n",
      "\n",
      "           0       0.59      0.61      0.60       103\n",
      "           1       0.71      0.73      0.72       195\n",
      "           2       0.48      0.40      0.44        65\n",
      "\n",
      "    accuracy                           0.64       363\n",
      "   macro avg       0.59      0.58      0.59       363\n",
      "weighted avg       0.63      0.64      0.64       363\n",
      "\n"
     ]
    }
   ],
   "source": [
    "SVC_top10 = SVC(**clf_top10.best_params_).fit(X_train_top10, df[\"etr_category\"])\n",
    "SVC_top20 = SVC(**clf_top20.best_params_).fit(X_train_top20, df[\"etr_category\"])\n",
    "SVC_top30 = SVC(**clf_top30.best_params_).fit(X_train_top30, df[\"etr_category\"])\n",
    "\n",
    "SVC_top10_predict = SVC_top10.predict(X_test_top10)\n",
    "SVC_top20_predict = SVC_top20.predict(X_test_top20)\n",
    "SVC_top30_predict = SVC_top30.predict(X_test_top30)\n",
    "\n",
    "print(\"SVC Top 10 Features Classification Report:\\n\", classification_report(df_test[\"etr_category\"], SVC_top10_predict))\n",
    "print(\"SVC Top 20 Features Classification Report:\\n\", classification_report(df_test[\"etr_category\"], SVC_top20_predict))\n",
    "print(\"SVC Top 30 Features Classification Report:\\n\", classification_report(df_test[\"etr_category\"], SVC_top30_predict))"
   ]
  },
  {
   "cell_type": "markdown",
   "metadata": {},
   "source": [
    "#### Therefore, SVC has the optimal macro F1 WITH 0.62 in these 3 models（LM, KNN, SVC）with top 20 features"
   ]
  },
  {
   "cell_type": "code",
   "execution_count": 40,
   "metadata": {},
   "outputs": [
    {
     "name": "stdout",
     "output_type": "stream",
     "text": [
      "✅ Models saved successfully in 'models/' directory!\n"
     ]
    }
   ],
   "source": [
    "import pickle\n",
    "import os\n",
    "\n",
    "# Create a directory for models if it doesn't exist\n",
    "os.makedirs(\"models\", exist_ok=True)\n",
    "\n",
    "# Save best  SVC model for top 20 features\n",
    "with open(\"models/SVC_top20.pkl\", \"wb\") as f:\n",
    "    pickle.dump(clf_top20.best_estimator_, f)\n",
    "\n",
    "print(\"✅ Models saved successfully in 'models/' directory!\")"
   ]
  },
  {
   "cell_type": "markdown",
   "metadata": {},
   "source": [
    "#### Therefore, when comparing different feature selection methods for relatively small datasets, feature selection plays a crucial role. Using too many features can easily lead to overfitting, especially in distance-based models or basic Linear Regression. Across the three models tested, the best performance was achieved when using around 10–20 top features, rather than including all 100+ features. This suggests that focusing on the most informative variables improves model accuracy and generalization.\n",
    "\n",
    "#### However, I wonder if this issue might be reduced when using decision tree–based algorithms. Models like Random Forest and XGBoost inherently include mechanisms such as feature subsampling and regularization that help control variance and prevent overfitting. Therefore, in these models, including a larger number of features might actually lead to better performance. Therefore, after this semester's learning, I'll try these models again in this prediction."
   ]
  }
 ],
 "metadata": {
  "kernelspec": {
   "display_name": "base",
   "language": "python",
   "name": "python3"
  },
  "language_info": {
   "codemirror_mode": {
    "name": "ipython",
    "version": 3
   },
   "file_extension": ".py",
   "mimetype": "text/x-python",
   "name": "python",
   "nbconvert_exporter": "python",
   "pygments_lexer": "ipython3",
   "version": "3.12.7"
  },
  "vscode": {
   "interpreter": {
    "hash": "bff0f7c864331389fa2ce0c5d534e26d0bfdbc8f9c927a5938dc8a191fde6d96"
   }
  }
 },
 "nbformat": 4,
 "nbformat_minor": 4
}
